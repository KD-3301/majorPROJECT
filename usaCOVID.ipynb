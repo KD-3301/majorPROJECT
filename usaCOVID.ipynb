import pandas as pd
df = pd.read_csv('/content/india_data.csv')
df.head()

df.shape

df.columns

df = df.rename(columns= { 'Province/State':'state','Country/Region':'country'})

df.isnull().sum()

df.dropna(axis=0,inplace=True)

df.info()

df['ObservationDate'] = pd.to_datetime(df['ObservationDate'])

df.info()

##=> ***NOW WE ARE PLOTING THE GRAPH OF DATA USING MATPLOTLIB***


import matplotlib.pyplot as plt
plt.figure(figsize=(20,5))
plt.plot(df['ObservationDate'].sort_values() , df['Confirmed'] , color= 'b')


plt.figure(figsize=(20,5))
plt.plot(df['ObservationDate'].sort_values() , df['Deaths'] , color='r')

plt.figure(figsize=(20,5))
plt.plot(df['ObservationDate'].sort_values() , df['Recovered'] , color='g')

##=> ***NOW WE ARE DOING THE FORCASTING FOR CONFIRMED CASES***


df1 = df.iloc[:,[0,4]]
df1

df1 = df1.rename(columns ={'Confirmed':'y','ObservationDate':'ds'})

from fbprophet import Prophet
#dir(Prophet)
model = Prophet(interval_width=0.95 ,daily_seasonality=True,yearly_seasonality=True)
model.fit(df1)
model.component_modes
future_dates = model.make_future_dataframe(periods=30,freq='D',include_history=True)
prediction = model.predict(future_dates)
#prediction.head()
plot1 = model.plot(prediction[['ds','yhat_lower','trend','yhat_upper','yhat']])


plot2 = model.plot_components(prediction)

=> ***now we are doing cross valition of our data to find out how much error are occers in our forcating data***

#cross validation 
#we have a data from 2020-01 to 2021-06
#2020-01 to 2020-09 - training part
#2020-09 to 2021-06 - testing part
#future data is 30 day our - validation

df1['ds'].nunique()

from fbprophet.diagnostics import cross_validation
df_cv = cross_validation(model,initial='200 days' ,period='15 days' ,horizon='30 days')
df_cv.head()
df_cv.shape

from fbprophet.diagnostics import performance_metrics
df_p = performance_metrics(df_cv)
df_p.head()

from fbprophet.plot import plot_cross_validation_metric
fig = plot_cross_validation_metric(df_cv ,metric='mse')
fig = plot_cross_validation_metric(df_cv ,metric='mdape')
fig = plot_cross_validation_metric(df_cv ,metric='rmse')
fig = plot_cross_validation_metric(df_cv ,metric='coverage')


***=>•Which country/state is having highest number of cases?***

***run*** this shell : 

import numpy as np
array = np.unique(df['state'])
df['state'].value_counts()
list1 = []
list2 = []
for i in range(0,37):
  df_count = df[df['state'] == array[i]]
  sum = df_count['Confirmed'].sum()
  list1.append(sum)
  list2.append(array[i])
data_cnf = pd.DataFrame(list(zip(list2,list1)), columns=['state','confirmedcases'])
data_cnf.head()
data_cnf.to_csv('confiremed_cases.csv',index=False)
print("THE HIGHEST CONFIREMED_CASES ARE : {0} ".format(np.max(data_cnf['confirmedcases'])))
data_cnf.loc[data_cnf['confirmedcases'] == np.max(data_cnf['confirmedcases']) ]


**=> •Which country/state is having lowest number of cases?**

***run this shell : ***

print("THE LOWEST CONFIREMED_CASES ARE : {0} ".format(np.min(data_cnf['confirmedcases'])))
data_cnf.loc[data_cnf['confirmedcases'] == np.min(data_cnf['confirmedcases']) ]

# **NOW WE ARE FORCASTING FOR TOTAL DEATHS** 

df2 = df.iloc[:,[0,5]]
df2

df2 = df2.rename(columns ={'Deaths':'y','ObservationDate':'ds'})

from fbprophet import Prophet
#dir(Prophet)
model = Prophet(interval_width=0.95,daily_seasonality=True,yearly_seasonality=True)
model.fit(df2)
model.component_modes
future_dates = model.make_future_dataframe(periods=30,freq='D',include_history=True)
prediction = model.predict(future_dates)
#prediction.head()
plot3 = model.plot(prediction[['ds','yhat_lower','trend','yhat_upper','yhat']])


plot4 = model.plot_components(prediction)

**=>•Which country/state is having highest number of deaths?**

import numpy as np
array = np.unique(df['state'])
df['state'].value_counts()
list3 = []
list4 = []
for i in range(0,37):
  df_death = df[df['state'] == array[i]]
  sum = df_death['Deaths'].sum()
  list3.append(sum)
  list4.append(array[i])
data_ded = pd.DataFrame(list(zip(list4,list3)), columns=['state','Deaths'])
data_ded.head()
data_ded.to_csv('total_deaths.csv',index=False)
print("THE HIGHEST Deaths  ARE : {0} ".format(np.max(data_ded['Deaths'])))
data_ded.loc[data_ded['Deaths'] == np.max(data_ded['Deaths']) ]


**=>•Which country/state is having lowest number of deaths?**

print("THE LOWEST DEATHS ARE : {0} ".format(np.min(data_ded['Deaths'])))
data_ded.loc[data_ded['Deaths'] == np.min(data_ded['Deaths']) ]

# ***here we are forcating the recoverd cases***

df3 = df.iloc[:,[0,6]]
df3

df3 = df3.rename(columns ={'Recovered':'y','ObservationDate':'ds'})

from fbprophet import Prophet
#dir(Prophet)
model = Prophet(interval_width=0.95,daily_seasonality=True , yearly_seasonality=True)
model.fit(df3)
model.component_modes
future_dates = model.make_future_dataframe(periods=30,freq='D',include_history=True)
prediction = model.predict(future_dates)
#prediction.head()
plot6 = model.plot(prediction[['ds','yhat_lower','trend','yhat_upper','yhat']])


plot5 = model.plot_components(prediction)

***=> which country/state is having highest people recoverd ***

import numpy as np
array = np.unique(df['state'])
df['state'].value_counts()
list5 = []
list6 = []
for i in range(0,37):
  df_recov = df[df['state'] == array[i]]
  sum = df_recov['Recovered'].sum()
  list5.append(sum)
  list6.append(array[i])
data_rec = pd.DataFrame(list(zip(list6,list5)), columns=['state','recover'])
data_rec.head()
data_rec.to_csv('total_recover.csv',index=False)
print("THE HIGHEST RECOVERD  ARE : {0} ".format(np.max(data_rec['recover'])))
data_rec.loc[data_rec['recover'] == np.max(data_rec['recover']) ]


***=> which country/state is having lowest people recoverd ***

print("THE LOWEST recover ARE : {0} ".format(np.min(data_rec['recover'])))
data_rec.loc[data_rec['recover'] == np.min(data_rec['recover'])]
