# importing the dataset

import pandas as pd
df = pd.read_csv('/content/covid_19_data.csv')
df.tail()

df['ObservationDate'] = pd.to_datetime(df['ObservationDate'])
df['Last Update'] = pd.to_datetime(df['Last Update'])

# extracting USA out of world data

#gating india data for doing  tableu part
df_x = df[df['Country/Region'] == 'US']
df_x.head()
df_x.to_csv('us_data.csv',index=False)
import numpy as np
np.min(df_x['Confirmed'])
df_x.loc[df['Confirmed'] == 0.0]


df_x = df.drop( ['SNo']  ,axis = 1)
df_x.head()


# plotting the graph using MATPLOTLIB librariy -

**plotting the graph for Deaths:**

import matplotlib.pyplot as plt
plt.figure(figsize=(20,5))


plt.plot(df_x['ObservationDate'].sort_values() , df_x['Deaths'] , color='r')

**plotting the graph for Recovered:**

import matplotlib.pyplot as plt
plt.figure(figsize=(20,5))
plt.plot(df_x['ObservationDate'].sort_values() , df_x['Recovered'] , color='g')

**plotting the graph for Confirmed:**

import matplotlib.pyplot as plt
plt.figure(figsize=(20,5))

plt.plot(df_x['ObservationDate'].sort_values() , df_x['Confirmed'] , color= 'b')


# Forecasting for Confirmed cases:

df1 = df_x.iloc[:,[0,4]]
df1

df1 = df1.rename(columns ={'Confirmed':'y','ObservationDate':'ds'})

from fbprophet import Prophet
#dir(Prophet)
model = Prophet(interval_width=0.95 ,daily_seasonality=True,yearly_seasonality=True)
model.fit(df1)
model.component_modes
future_dates = model.make_future_dataframe(periods=30,freq='D',include_history=True)
prediction = model.predict(future_dates)
#prediction.head()
plot1 = model.plot(prediction[['ds','yhat_lower','trend','yhat_upper','yhat']])


plot2 = model.plot_components(prediction)

df1['ds'].nunique()

# cross validation of data to find out errors:

from fbprophet.diagnostics import cross_validation
df_cv = cross_validation(model,initial='200 days' ,period='15 days' ,horizon='30 days')
df_cv.head()
df_cv.shape

from fbprophet.diagnostics import performance_metrics
df_p = performance_metrics(df_cv)
df_p.head()

from fbprophet.plot import plot_cross_validation_metric
fig = plot_cross_validation_metric(df_cv ,metric='mse')
fig = plot_cross_validation_metric(df_cv ,metric='mdape')
fig = plot_cross_validation_metric(df_cv ,metric='rmse')
fig = plot_cross_validation_metric(df_cv ,metric='coverage')


# Country / State having the highest number of cases:

import numpy as np
array = np.unique(df_x['Country/Region'])
df_x['Country/Region'].value_counts()
list1 = []
list2 = []
for i in range(0,229):
  df_count = df_x[df_x['Country/Region'] == array[i]]
  sum = df_count['Confirmed'].sum()
  list1.append(sum)
  list2.append(array[i])
data_cnf = pd.DataFrame(list(zip(list2,list1)), columns=['country','confirmedcases'])
data_cnf.head()
data_cnf.to_csv('confiremed_cases.csv',index=False)
print("THE HIGHEST CONFIREMED_CASES ARE : {0} ".format(np.max(data_cnf['confirmedcases'])))
data_cnf.loc[data_cnf['confirmedcases'] == np.max(data_cnf['confirmedcases']) ]


# Country / State having the lowest number of case:

print("THE LOWEST CONFIREMED_CASES ARE : {0} ".format(np.min(data_cnf['confirmedcases'])))
data_cnf.loc[data_cnf['confirmedcases'] == np.min(data_cnf['confirmedcases']) ]

# Forecasting for Death cases:

df2 = df.iloc[:,[0,5]]
df2

df2 = df2.rename(columns ={'Deaths':'y','ObservationDate':'ds'})

from fbprophet import Prophet
#dir(Prophet)
model = Prophet(interval_width=0.95,daily_seasonality=True,yearly_seasonality=True)
model.fit(df2)
model.component_modes
future_dates = model.make_future_dataframe(periods=30,freq='D',include_history=True)
prediction = model.predict(future_dates)
#prediction.head()
plot3 = model.plot(prediction[['ds','yhat_lower','trend','yhat_upper','yhat']])


plot4 = model.plot_components(prediction)

**Country / State having the highest number of deaths :**

import numpy as np
array = np.unique(df_x['Country/Region'])
df_x['Country/Region'].value_counts()
list3 = []
list4 = []
for i in range(0,229):
  df_death = df_x[df_x['Country/Region'] == array[i]]
  sum = df_death['Deaths'].sum()
  list3.append(sum)
  list4.append(array[i])
data_ded = pd.DataFrame(list(zip(list4,list3)), columns=['country','Deaths'])
data_ded.head()
data_ded.to_csv('total_deaths.csv',index=False)
print("THE HIGHEST Deaths  ARE : {0} ".format(np.max(data_ded['Deaths'])))
data_ded.loc[data_ded['Deaths'] == np.max(data_ded['Deaths']) ]


**Country / State having the lowest number of Deaths:**

print("THE LOWEST DEATHS ARE : {0} ".format(np.min(data_ded['Deaths'])))
data_ded.loc[data_ded['Deaths'] == np.min(data_ded['Deaths']) ]

# Forecasting for Recovered Cases:

df3 = df_x.iloc[:,[0,6]]
df3

df3 = df3.rename(columns ={'Recovered':'y','ObservationDate':'ds'})

from fbprophet import Prophet
#dir(Prophet)
model = Prophet(interval_width=0.95,daily_seasonality=True , yearly_seasonality=True)
model.fit(df3)
model.component_modes
future_dates = model.make_future_dataframe(periods=30,freq='D',include_history=True)
prediction = model.predict(future_dates)
#prediction.head()
plot6 = model.plot(prediction[['ds','yhat_lower','trend','yhat_upper','yhat']])


plot5 = model.plot_components(prediction)

**Country / Sate having the highest number of Recoveris:**

import numpy as np
array = np.unique(df_x['Country/Region'])
df_x['Country/Region'].value_counts()
list5 = []
list6 = []
for i in range(0,229):
  df_recov = df_x[df_x['Country/Region'] == array[i]]
  sum = df_recov['Deaths'].sum()
  list5.append(sum)
  list6.append(array[i])
data_rec = pd.DataFrame(list(zip(list6,list5)), columns=['country','recover'])
data_rec.head()
data_rec.to_csv('total_recover.csv',index=False)
print("THE HIGHEST RECOVERD  ARE : {0} ".format(np.max(data_rec['recover'])))
data_rec.loc[data_rec['recover'] == np.max(data_rec['recover']) ]


print("THE LOWEST recover ARE : {0} ".format(np.min(data_rec['recover'])))
data_rec.loc[data_rec['recover'] == np.min(data_rec['recover'])]
